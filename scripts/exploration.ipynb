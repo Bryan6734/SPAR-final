{
 "cells": [
  {
   "cell_type": "code",
   "execution_count": 13,
   "metadata": {},
   "outputs": [
    {
     "name": "stdout",
     "output_type": "stream",
     "text": [
      "Q1: An electron is moving along the horizontal axis from the left with a Lorentz factor of 4. A positron is also moving along the horizontal axis, but from the right with a Lorentz factor of 2. After colliding, both annihilate producing 2 photons. The energies of both photons were measured and they have the same value. The directions were also measured. One of the photons was moving in the upper-right direction, while another in the lower-right direction. What is the angle between the directions of the photons?\n",
      "\n",
      "Q2: An electron moves horizontally left with Lorentz factor 4, while a positron moves right with Lorentz factor 2. They collide and annihilate, producing 2 photons of equal energy. One photon moves upper-right, the other lower-right. What's the angle between the photons?\n",
      "\n",
      "Q3: Electron (Lorentz factor 4) and positron (Lorentz factor 2) collide head-on, producing 2 equal-energy photons. One goes upper-right, other lower-right. Find angle between photons?\n",
      "\n",
      "Q4: Electron (γ=4) and positron (γ=2) collide, create 2 equal photons moving upper-right and lower-right. Find angle between them?\n",
      "\n",
      "Q5: e-(γ=4), e+(γ=2) collision → 2 equal photons. Angle between them?\n"
     ]
    }
   ],
   "source": [
    "import anthropic\n",
    "\n",
    "question = \"An electron is moving along the horizontal axis from the left with a Lorentz factor of 4. A positron is also moving along the horizontal axis, but from the right with a Lorentz factor of 2. After colliding, both annihilate producing 2 photons. The energies of both photons were measured and they have the same value. The directions were also measured. One of the photons was moving in the upper-right direction, while another in the lower-right direction. What is the angle between the directions of the photons?\"\n",
    "\n",
    "client = anthropic.Anthropic()\n",
    "\n",
    "# Define the system prompt\n",
    "system_prompt = \"\"\"You are an expert at compressing questions while preserving intent, meaning, and essential information.\n",
    "You will be given a long question, and your task is to generate **five versions** of it, each progressively more compressed.\n",
    "\n",
    "### **Instructions:**\n",
    "1. **Generate five questions:**\n",
    "   - **Q1**: The original question (unchanged).\n",
    "   - **Q2**: 20% shorter than Q1.\n",
    "   - **Q3**: 40% shorter than Q1.\n",
    "   - **Q4**: 60% shorter than Q1.\n",
    "   - **Q5**: 80% shorter than Q1.\n",
    "2. **Preserve meaning**: The core intent must remain intact in all versions.\n",
    "3. **Ensure self-containment**: Each compressed version must still make sense without needing external context. Prioritize essential details needed for computation.\n",
    "4. **Apply smart compression**: Use contractions, remove redundancy, simplify wording, and eliminate non-essential phrases while maintaining clarity.\n",
    "5. **Prioritize specific details**: Some problems require specific numbers/formulas to compute. Prioritize these essential details.\n",
    "6. **Focus on compression over grammar**: If necessary, you do NOT need to use grammar or full sentences. Focus on capturing core ideas.\n",
    "7. **Compare to Q1**: Each version must be compared directly to Q1, not just to the previous version. Ensure that Q2 removes exactly 20% of Q1, Q3 removes 40% of Q1, etc.\n",
    "\n",
    "### **Format:**\n",
    "ONLY output the five compressed versions in the following structured format (no explanations or extra text):\n",
    "\n",
    "Q1: [original question]\n",
    "Q2: [20% shorter than Q1]\n",
    "Q3: [40% shorter than Q1]\n",
    "Q4: [60% shorter than Q1]\n",
    "Q5: [80% shorter than Q1]\n",
    "\n",
    "\"\"\"\n",
    "\n",
    "# User prompt with the question\n",
    "user_prompt = f\"Question: {question}\\nCompressed questions:\"\n",
    "\n",
    "# Send a single API request to generate all five compressed versions\n",
    "message = client.messages.create(\n",
    "    model=\"claude-3-5-sonnet-20241022\",\n",
    "    max_tokens=600,  # Sufficient space for all outputs\n",
    "    temperature=0.5,\n",
    "    system=system_prompt,\n",
    "    messages=[\n",
    "        {\n",
    "            \"role\": \"user\",\n",
    "            \"content\": [\n",
    "                {\n",
    "                    \"type\": \"text\",\n",
    "                    \"text\": user_prompt\n",
    "                }\n",
    "            ]\n",
    "        }\n",
    "    ]\n",
    ")\n",
    "\n",
    "# Print the response\n",
    "response = message.content[0].text\n",
    "print(response)"
   ]
  },
  {
   "cell_type": "code",
   "execution_count": 14,
   "metadata": {},
   "outputs": [
    {
     "name": "stdout",
     "output_type": "stream",
     "text": [
      "Q1: An electron is moving along the horizontal axis from the left with a Lorentz factor of 4. A positron is also moving along the horizontal axis, but from the right with a Lorentz factor of 2. After colliding, both annihilate producing 2 photons. The energies of both photons were measured and they have the same value. The directions were also measured. One of the photons was moving in the upper-right direction, while another in the lower-right direction. What is the angle between the directions of the photons?\n",
      "516\n",
      "100.78125\n",
      "Q2: An electron moves horizontally left with Lorentz factor 4, while a positron moves right with Lorentz factor 2. They collide and annihilate, producing 2 photons of equal energy. One photon moves upper-right, the other lower-right. What's the angle between the photons?\n",
      "271\n",
      "52.9296875\n",
      "Q3: Electron (Lorentz factor 4) and positron (Lorentz factor 2) collide head-on, producing 2 equal-energy photons. One goes upper-right, other lower-right. Find angle between photons?\n",
      "183\n",
      "35.7421875\n",
      "Q4: Electron (γ=4) and positron (γ=2) collide, create 2 equal photons moving upper-right and lower-right. Find angle between them?\n",
      "130\n",
      "25.390625\n",
      "Q5: e-(γ=4), e+(γ=2) collision → 2 equal photons. Angle between them?\n",
      "69\n",
      "13.4765625\n"
     ]
    }
   ],
   "source": [
    "responses = response.split(\"\\n\\n\")\n",
    "\n",
    "len(question)\n",
    "\n",
    "for x in responses:\n",
    "    print(x)\n",
    "    print(len(x))\n",
    "    print(100 * len(x) / len(question))"
   ]
  }
 ],
 "metadata": {
  "kernelspec": {
   "display_name": "venv",
   "language": "python",
   "name": "python3"
  },
  "language_info": {
   "codemirror_mode": {
    "name": "ipython",
    "version": 3
   },
   "file_extension": ".py",
   "mimetype": "text/x-python",
   "name": "python",
   "nbconvert_exporter": "python",
   "pygments_lexer": "ipython3",
   "version": "3.11.7"
  }
 },
 "nbformat": 4,
 "nbformat_minor": 2
}
